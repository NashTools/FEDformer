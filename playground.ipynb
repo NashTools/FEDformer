{
 "cells": [
  {
   "cell_type": "code",
   "execution_count": 27,
   "id": "initial_id",
   "metadata": {
    "collapsed": true,
    "ExecuteTime": {
     "end_time": "2023-11-16T15:39:52.858228958Z",
     "start_time": "2023-11-16T15:39:52.806060453Z"
    }
   },
   "outputs": [
    {
     "name": "stdout",
     "output_type": "stream",
     "text": [
      "torch.Size([4, 3])\n"
     ]
    }
   ],
   "source": [
    "import torch.nn as nn\n",
    "import torch\n",
    "\n",
    "m = nn.Linear(2, 3, bias=False)\n",
    "input = torch.randn(4, 2)\n",
    "output = m(input)\n",
    "print(output.size())"
   ]
  },
  {
   "cell_type": "code",
   "execution_count": 28,
   "outputs": [
    {
     "data": {
      "text/plain": "tensor([[ 0.8028, -0.3441],\n        [ 0.6516,  1.1764],\n        [ 0.5118, -0.1745],\n        [-0.6976, -0.4048]])"
     },
     "execution_count": 28,
     "metadata": {},
     "output_type": "execute_result"
    }
   ],
   "source": [
    "input"
   ],
   "metadata": {
    "collapsed": false,
    "ExecuteTime": {
     "end_time": "2023-11-16T15:39:55.373788494Z",
     "start_time": "2023-11-16T15:39:55.368820330Z"
    }
   },
   "id": "89df4a71158ebcd6"
  },
  {
   "cell_type": "code",
   "execution_count": 29,
   "outputs": [
    {
     "data": {
      "text/plain": "tensor([[ 0.2219, -0.0024,  0.6125],\n        [ 0.8012,  0.3214,  0.2515],\n        [ 0.1606,  0.0084,  0.3830],\n        [-0.4931, -0.1542, -0.4135]], grad_fn=<MmBackward>)"
     },
     "execution_count": 29,
     "metadata": {},
     "output_type": "execute_result"
    }
   ],
   "source": [
    "output"
   ],
   "metadata": {
    "collapsed": false,
    "ExecuteTime": {
     "end_time": "2023-11-16T15:39:58.543811601Z",
     "start_time": "2023-11-16T15:39:58.540770419Z"
    }
   },
   "id": "75a92f537b2824f9"
  },
  {
   "cell_type": "code",
   "execution_count": 30,
   "outputs": [
    {
     "data": {
      "text/plain": "Parameter containing:\ntensor([[ 0.4593,  0.4267],\n        [ 0.0922,  0.2221],\n        [ 0.6907, -0.1688]], requires_grad=True)"
     },
     "execution_count": 30,
     "metadata": {},
     "output_type": "execute_result"
    }
   ],
   "source": [
    "m.weight"
   ],
   "metadata": {
    "collapsed": false,
    "ExecuteTime": {
     "end_time": "2023-11-16T15:40:04.260338607Z",
     "start_time": "2023-11-16T15:40:04.256491655Z"
    }
   },
   "id": "762ad04baa5ed18c"
  },
  {
   "cell_type": "code",
   "execution_count": 31,
   "outputs": [
    {
     "data": {
      "text/plain": "array([[ 0.45926604,  0.09221545,  0.6906702 ],\n       [ 0.4266947 ,  0.22209534, -0.16878977]], dtype=float32)"
     },
     "execution_count": 31,
     "metadata": {},
     "output_type": "execute_result"
    }
   ],
   "source": [
    "wei = m.weight.detach().numpy() \n",
    "#transpose wei\n",
    "wei = wei.transpose()\n",
    "wei"
   ],
   "metadata": {
    "collapsed": false,
    "ExecuteTime": {
     "end_time": "2023-11-16T15:40:26.214917820Z",
     "start_time": "2023-11-16T15:40:26.210071374Z"
    }
   },
   "id": "e8a9c5019ad9e3f0"
  },
  {
   "cell_type": "code",
   "execution_count": 32,
   "outputs": [
    {
     "data": {
      "text/plain": "array([[ 0.22187601, -0.00238872,  0.6125362 ],\n       [ 0.80121595,  0.32135415,  0.2514996 ],\n       [ 0.16059345,  0.0084355 ,  0.3829651 ],\n       [-0.49310595, -0.15423203, -0.4134844 ]], dtype=float32)"
     },
     "execution_count": 32,
     "metadata": {},
     "output_type": "execute_result"
    }
   ],
   "source": [
    "import numpy as np\n",
    "# dot product of input and wei\n",
    "np.dot(input.numpy(), wei)"
   ],
   "metadata": {
    "collapsed": false,
    "ExecuteTime": {
     "end_time": "2023-11-16T15:40:29.330714376Z",
     "start_time": "2023-11-16T15:40:29.327672373Z"
    }
   },
   "id": "32e6bb55f8cf7006"
  }
 ],
 "metadata": {
  "kernelspec": {
   "display_name": "Python 3",
   "language": "python",
   "name": "python3"
  },
  "language_info": {
   "codemirror_mode": {
    "name": "ipython",
    "version": 2
   },
   "file_extension": ".py",
   "mimetype": "text/x-python",
   "name": "python",
   "nbconvert_exporter": "python",
   "pygments_lexer": "ipython2",
   "version": "2.7.6"
  }
 },
 "nbformat": 4,
 "nbformat_minor": 5
}
